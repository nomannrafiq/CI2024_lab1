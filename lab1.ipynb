from itertools import accumulate
from icecream import ic
import numpy as np
from tqdm.auto import tqdm
from matplotlib import pyplot as plt


RANDOM_SEED = 42
np.random.seed(RANDOM_SEED)
NUM_ITEMS = 1000
DIMENSIONS = 500
MAX_STEPS = 20_000
36
WEIGHTS = np.random.randint(1, 50 + 1, size=(NUM_ITEMS, DIMENSIONS))
MAX_WEIGHTS = np.full(DIMENSIONS, NUM_ITEMS * 20)
VALUES = np.random.randint(1, 100 + 1, size=NUM_ITEMS)
def evaluate(knapsack):
    if all(np.sum(WEIGHTS[knapsack], axis=0) < MAX_WEIGHTS):
        return np.sum(VALUES[knapsack])
    else:
        return -1


        solution = np.full(NUM_ITEMS, False)
        history = [evaluate(solution)]
        for n in tqdm(range(MAX_STEPS)):
            # TWEAK!
            new_solution = solution.copy()
            index = np.random.randint(0, NUM_ITEMS)
            new_solution[index] = not new_solution[index]
        
            history.append(evaluate(new_solution))
            if evaluate(new_solution) > evaluate(solution):
                solution = new_solution
        
        # That's all...
        ic(evaluate(solution))
        ic(history.index(evaluate(solution)))
        
        plt.figure(figsize=(14, 8))
        plt.plot(
            range(len(history)),
            list(accumulate(history, max)),
            color="red",
        )
        _ = plt.scatter(range(len(history)), history, marker=".")




        for n in tqdm(range(MAX_STEPS)):
    # TWEAK!
    new_solution = solution.copy()
    index = np.random.randint(0, NUM_ITEMS)
    new_solution[index] = not new_solution[index]

    history.append(evaluate(new_solution))
    if evaluate(new_solution) > evaluate(solution):
        solution = new_solution


        def evaluate(solution):
        return (valid(solution), -cost(solution)